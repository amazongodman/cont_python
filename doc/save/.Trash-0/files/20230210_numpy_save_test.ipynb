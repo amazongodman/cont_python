{
 "cells": [
  {
   "cell_type": "code",
   "execution_count": 1,
   "id": "fc8ed353",
   "metadata": {},
   "outputs": [],
   "source": [
    "import numpy as np\n",
    "\n",
    "a = np.arange(5)"
   ]
  },
  {
   "cell_type": "code",
   "execution_count": 2,
   "id": "5f77af22",
   "metadata": {},
   "outputs": [],
   "source": [
    "np.save('np_save', a)"
   ]
  },
  {
   "cell_type": "code",
   "execution_count": 3,
   "id": "c4cb2a71",
   "metadata": {},
   "outputs": [
    {
     "data": {
      "text/plain": [
       "array([0, 1, 2, 3, 4])"
      ]
     },
     "execution_count": 3,
     "metadata": {},
     "output_type": "execute_result"
    }
   ],
   "source": [
    "np.load('np_save.npy')"
   ]
  },
  {
   "cell_type": "code",
   "execution_count": null,
   "id": "275b8c75",
   "metadata": {},
   "outputs": [],
   "source": []
  }
 ],
 "metadata": {
  "kernelspec": {
   "display_name": "Python 3 (ipykernel)",
   "language": "python",
   "name": "python3"
  },
  "language_info": {
   "codemirror_mode": {
    "name": "ipython",
    "version": 3
   },
   "file_extension": ".py",
   "mimetype": "text/x-python",
   "name": "python",
   "nbconvert_exporter": "python",
   "pygments_lexer": "ipython3",
   "version": "3.10.6"
  }
 },
 "nbformat": 4,
 "nbformat_minor": 5
}
